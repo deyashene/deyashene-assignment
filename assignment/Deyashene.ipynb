{
 "cells": [
  {
   "cell_type": "code",
   "execution_count": 31,
   "metadata": {},
   "outputs": [],
   "source": [
    "\n",
    "# Read the input text file\n",
    "input_file  = open(\"input/input.txt\")\n",
    "\n",
    "# Initialize variables\n",
    "prices_dict = dict()\n",
    "no_of_emp = 0\n",
    "prices_diff_list = []\n",
    "\n",
    "\n",
    "# Convert prices information to dictionary\n",
    "for line in input_file:\n",
    "    col_pos = line.find(\":\")\n",
    "    if col_pos == -1: continue\n",
    "    if line[:col_pos].strip() == \"Goodies and Prices\": continue\n",
    "    if line[:col_pos].strip() == \"Number of employees\":\n",
    "        no_of_emp = int(line[col_pos+2:].strip())\n",
    "        continue\n",
    "    prices_dict[line[:col_pos].strip()] = int(line[col_pos+2:].strip())\n",
    "\n",
    "# Sorting the dictionary according to price and store it in a list\n",
    "prices_list = [(item, price) for item, price in sorted(prices_dict.items(), key=lambda item: item[1])]\n",
    "\n",
    "# Calculate the price differences to choose the lowest price difference between highest and lowest\n",
    "for item in range(0,len(prices_list)-no_of_emp):\n",
    "    prices_diff_list.append((prices_list[item+(no_of_emp-1)][1] - prices_list[item][1], item, item+(no_of_emp-1)))\n",
    "prices_diff_list = sorted(prices_diff_list)\n",
    "\n",
    "\n",
    "# Saving the output in the file\n",
    "with open('output/output.txt','w+') as output_file:\n",
    "    output_file.write(\"The goodies selected for distribution are:\\n\\n\")\n",
    "    for item in range(prices_diff_list[0][1], prices_diff_list[0][2]+1):\n",
    "        output_file.write(\"{}: {}\\n\".format(prices_list[item][0], prices_list[item][1]))\n",
    "    output_file.write(\"\\nAnd the difference between the chosen goodie with highest price and the lowest price is {}\".format(prices_diff_list[0][0]))\n"
   ]
  },
  {
   "cell_type": "code",
   "execution_count": 4,
   "metadata": {},
   "outputs": [
    {
     "name": "stdout",
     "output_type": "stream",
     "text": [
      "\n",
      "And the difference between the chosen goodie with highest price and the lowest price is 3121\n"
     ]
    }
   ],
   "source": [
    "print(\"\\nAnd the difference between the chosen goodie with highest price and the lowest price is {}\".format(prices_diff_list[0][0]))"
   ]
  },
  {
   "cell_type": "code",
   "execution_count": null,
   "metadata": {},
   "outputs": [],
   "source": []
  }
 ],
 "metadata": {
  "kernelspec": {
   "display_name": "Python 3",
   "language": "python",
   "name": "python3"
  },
  "language_info": {
   "codemirror_mode": {
    "name": "ipython",
    "version": 3
   },
   "file_extension": ".py",
   "mimetype": "text/x-python",
   "name": "python",
   "nbconvert_exporter": "python",
   "pygments_lexer": "ipython3",
   "version": "3.7.6"
  }
 },
 "nbformat": 4,
 "nbformat_minor": 4
}
